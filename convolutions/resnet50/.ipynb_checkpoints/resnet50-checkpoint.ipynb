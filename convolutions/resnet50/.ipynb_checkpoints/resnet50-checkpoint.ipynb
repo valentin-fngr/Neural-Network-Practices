{
 "cells": [
  {
   "cell_type": "code",
   "execution_count": 72,
   "metadata": {},
   "outputs": [
    {
     "name": "stderr",
     "output_type": "stream",
     "text": [
      "Using TensorFlow backend.\n"
     ]
    }
   ],
   "source": [
    "import numpy as np \n",
    "from tensorflow.keras.layers import Add, BatchNormalization, ZeroPadding2D, Conv2D, GlobalMaxPooling2D, MaxPooling2D, Flatten, AveragePooling2D, Activation, Dense\n",
    "import matplotlib.pyplot as plt\n",
    "import tensorflow as tf\n",
    "from keras.utils import plot_model\n"
   ]
  },
  {
   "cell_type": "markdown",
   "metadata": {},
   "source": [
    "## Let's build the entire Resnet 50\n",
    "\n",
    "<ul>\n",
    "    <li>identity block</li>\n",
    "    <li>convolutional block</li>\n",
    "</ul>\n",
    "    "
   ]
  },
  {
   "cell_type": "code",
   "execution_count": 52,
   "metadata": {},
   "outputs": [],
   "source": [
    "def identity_block(X, filters, f, stage, block): \n",
    "    '''\n",
    "        Apply the identity block \n",
    "            Argument : \n",
    "                X : input \n",
    "                filters : a python list of number of filters (usually 3)\n",
    "                f : an integer representing the size of the bottleneck filter\n",
    "                stage : number of the stage in the network, used for naming only \n",
    "                block : a string representing the name of the block\n",
    "    '''\n",
    "        \n",
    "    # name basis : \n",
    "    # conv \n",
    "    cnn_name = \"res_\" + block + str(stage) + \"_branch\"\n",
    "    #batch norm \n",
    "    batch_name = \"bn\" + block + str(stage) + \"_branch\"\n",
    "    shortcut_X = X\n",
    "    \n",
    "    #A\n",
    "    \n",
    "    shortcut_X = Conv2D(filters[0], 1, padding=\"valid\", name=cnn_name + \"_a1\", strides=1, kernel_initializer=\"glorot_uniform\")(shortcut_X)\n",
    "    shortcut_X = BatchNormalization(axis=3, name=batch_name + \"_a1\")(shortcut_X) \n",
    "    shortcut_X = Activation(\"relu\")(shortcut_X) \n",
    "    \n",
    "    #B\n",
    "    shortcut_X = Conv2D(filters[1], f, padding=\"same\", name=cnn_name + \"_b1\", strides=1, kernel_initializer=\"glorot_uniform\")(shortcut_X)\n",
    "    shortcut_X = BatchNormalization(axis=3, name=batch_name + \"_b1\")(shortcut_X)\n",
    "    shortcut_X = Activation(\"relu\")(shortcut_X) \n",
    "    #C\n",
    "    \n",
    "    shortcut_X = Conv2D(filters[2], 1, padding=\"valid\", name=cnn_name + \"_c1\", strides=1, kernel_initializer=\"glorot_uniform\")(shortcut_X)\n",
    "    shortcut_X = BatchNormalization(axis=3, name=batch_name + \"_c1\")(shortcut_X) \n",
    "\n",
    "\n",
    "    # Add \n",
    "    output = Add()([X, shortcut_X])\n",
    "    \n",
    "    output = Activation(\"relu\")(output)\n",
    "    \n",
    "    return output"
   ]
  },
  {
   "cell_type": "code",
   "execution_count": 60,
   "metadata": {},
   "outputs": [],
   "source": [
    "def convolution_block(X, filters, f, strides, stage, block): \n",
    "    '''\n",
    "        Apply the identity block \n",
    "            Argument : \n",
    "                X : input \n",
    "                filters : a python list of number of filters (usually 3)\n",
    "                f : an integer representing the size of the bottleneck filter\n",
    "                stage : number of the stage in the network, used for naming only \n",
    "                block : a string representing the name of the block\n",
    "    '''\n",
    "        \n",
    "    # name basis : \n",
    "    # conv \n",
    "    cnn_name = \"res_\" + block + str(stage) + \"_branch\"\n",
    "    #batch norm \n",
    "    batch_name = \"bn\" + block + str(stage) + \"_branch\"\n",
    "    shortcut_X = X\n",
    "    \n",
    "    #A\n",
    "    \n",
    "    shortcut_X = Conv2D(filters[0], 1, padding=\"valid\", strides=strides, name=cnn_name + \"_a1\", kernel_initializer=\"glorot_uniform\")(shortcut_X)\n",
    "    shortcut_X = BatchNormalization(axis=3, name=batch_name + \"_a1\")(shortcut_X) \n",
    "    shortcut_X = Activation(\"relu\")(shortcut_X) \n",
    "    \n",
    "    #B\n",
    "    shortcut_X = Conv2D(filters[1], f, padding=\"same\", name=cnn_name + \"_b1\", strides=1, kernel_initializer=\"glorot_uniform\")(shortcut_X)\n",
    "    shortcut_X = BatchNormalization(axis=3, name=batch_name + \"_b1\")(shortcut_X)\n",
    "    shortcut_X = Activation(\"relu\")(shortcut_X) \n",
    "    #C\n",
    "    \n",
    "    shortcut_X = Conv2D(filters[2], 1, padding=\"valid\", name=cnn_name + \"_c1\", strides=1, kernel_initializer=\"glorot_uniform\")(shortcut_X)\n",
    "    shortcut_X = BatchNormalization(axis=3, name=batch_name + \"_c1\")(shortcut_X) \n",
    "    \n",
    "    \n",
    "    # skip conv \n",
    "    X = Conv2D(filters[2], 1, padding=\"valid\", strides=strides, name=cnn_name + \"_1\", kernel_initializer=\"glorot_uniform\")(X)\n",
    "    X = BatchNormalization(axis=3, name=batch_name + \"1\")(X)\n",
    "\n",
    "    # Add \n",
    "    output = Add()([X, shortcut_X])\n",
    "    \n",
    "    output = Activation(\"relu\")(output)\n",
    "    \n",
    "    return output"
   ]
  },
  {
   "cell_type": "code",
   "execution_count": 67,
   "metadata": {},
   "outputs": [],
   "source": [
    "def resnet50(input_shape, classes): \n",
    "    \n",
    "    X_input = tf.keras.Input(input_shape)\n",
    "    \n",
    "    x = ZeroPadding2D(3)(X_input)\n",
    "    \n",
    "    # conv batch relu max pool \n",
    "    x = Conv2D(64, 7, strides=2, padding=\"valid\", name=\"conv1\", kernel_initializer=\"glorot_uniform\")(x) \n",
    "    x = BatchNormalization(axis=3, name=\"bn1\")(x) \n",
    "    x = Activation(\"relu\")(x) \n",
    "    x = MaxPooling2D(3, strides=2)(x) \n",
    "    \n",
    "    x = convolution_block(x, [64, 64, 256], f=3, strides=1, stage=1, block=\"a\")\n",
    "    x = identity_block(x, [64, 64, 256], f=3, stage=1, block=\"b\")\n",
    "    x = identity_block(x, [64, 64, 256], f=3, stage=1, block=\"c\") \n",
    "    \n",
    "    x = convolution_block(x, [128, 128, 512], f=3, strides=2, stage=2, block=\"a\")\n",
    "    x = identity_block(x, [128, 128, 512], f=3, stage=2, block=\"b\")\n",
    "    x = identity_block(x, [128, 128, 512], f=3, stage=2, block=\"c\") \n",
    "    x = identity_block(x, [128, 128, 512], f=3, stage=2, block=\"d\") \n",
    "    \n",
    "    x = convolution_block(x, [256, 256, 1024], f=3, strides=2, stage=3, block=\"a\")\n",
    "    x = identity_block(x, [256, 256, 1024], f=3, stage=3, block=\"b\")\n",
    "    x = identity_block(x, [256, 256, 1024], f=3, stage=3, block=\"c\") \n",
    "    x = identity_block(x, [256, 256, 1024], f=3, stage=3, block=\"d\") \n",
    "    x = identity_block(x, [256, 256, 1024], f=3, stage=3, block=\"e\") \n",
    "    x = identity_block(x, [256, 256, 1024], f=3, stage=3, block=\"f\")\n",
    "    \n",
    "    x = convolution_block(x, [512, 512, 2048], f=3, strides=2, stage=4, block=\"a\")\n",
    "    x = identity_block(x, [256, 256, 2048], f=3, stage=4, block=\"b\")\n",
    "    x = identity_block(x, [256, 256, 2048], f=3, stage=4, block=\"c\")\n",
    "    \n",
    "    x = AveragePooling2D(2, name=\"avg_pool\")(x)\n",
    "    x = Flatten()(x)\n",
    "    x = Dense(6, \"softmax\", name=\"fc\", kernel_initializer=\"glorot_uniform\")(x)\n",
    "    \n",
    "    model = tf.keras.Model(inputs=X_input, outputs=x)\n",
    "    \n",
    "    return model\n",
    "    \n",
    "    "
   ]
  },
  {
   "cell_type": "code",
   "execution_count": 75,
   "metadata": {},
   "outputs": [
    {
     "ename": "ImportError",
     "evalue": "Failed to import `pydot`. Please install `pydot`. For example with `pip install pydot`.",
     "output_type": "error",
     "traceback": [
      "\u001b[1;31m---------------------------------------------------------------------------\u001b[0m",
      "\u001b[1;31mImportError\u001b[0m                               Traceback (most recent call last)",
      "\u001b[1;32m<ipython-input-75-cdc5e7118b93>\u001b[0m in \u001b[0;36m<module>\u001b[1;34m\u001b[0m\n\u001b[1;32m----> 1\u001b[1;33m \u001b[0mplot_model\u001b[0m\u001b[1;33m(\u001b[0m\u001b[0mresnet50\u001b[0m\u001b[1;33m(\u001b[0m\u001b[1;33m(\u001b[0m\u001b[1;36m96\u001b[0m\u001b[1;33m,\u001b[0m\u001b[1;36m95\u001b[0m\u001b[1;33m,\u001b[0m\u001b[1;36m3\u001b[0m\u001b[1;33m)\u001b[0m\u001b[1;33m,\u001b[0m \u001b[0mclasses\u001b[0m\u001b[1;33m=\u001b[0m\u001b[1;36m6\u001b[0m\u001b[1;33m)\u001b[0m\u001b[1;33m)\u001b[0m\u001b[1;33m\u001b[0m\u001b[1;33m\u001b[0m\u001b[0m\n\u001b[0m",
      "\u001b[1;32m~\\Anaconda3\\lib\\site-packages\\keras\\utils\\vis_utils.py\u001b[0m in \u001b[0;36mplot_model\u001b[1;34m(model, to_file, show_shapes, show_layer_names, rankdir, expand_nested, dpi)\u001b[0m\n\u001b[0;32m    238\u001b[0m     \"\"\"\n\u001b[0;32m    239\u001b[0m     dot = model_to_dot(model, show_shapes, show_layer_names, rankdir,\n\u001b[1;32m--> 240\u001b[1;33m                        expand_nested, dpi)\n\u001b[0m\u001b[0;32m    241\u001b[0m     \u001b[0m_\u001b[0m\u001b[1;33m,\u001b[0m \u001b[0mextension\u001b[0m \u001b[1;33m=\u001b[0m \u001b[0mos\u001b[0m\u001b[1;33m.\u001b[0m\u001b[0mpath\u001b[0m\u001b[1;33m.\u001b[0m\u001b[0msplitext\u001b[0m\u001b[1;33m(\u001b[0m\u001b[0mto_file\u001b[0m\u001b[1;33m)\u001b[0m\u001b[1;33m\u001b[0m\u001b[1;33m\u001b[0m\u001b[0m\n\u001b[0;32m    242\u001b[0m     \u001b[1;32mif\u001b[0m \u001b[1;32mnot\u001b[0m \u001b[0mextension\u001b[0m\u001b[1;33m:\u001b[0m\u001b[1;33m\u001b[0m\u001b[1;33m\u001b[0m\u001b[0m\n",
      "\u001b[1;32m~\\Anaconda3\\lib\\site-packages\\keras\\utils\\vis_utils.py\u001b[0m in \u001b[0;36mmodel_to_dot\u001b[1;34m(model, show_shapes, show_layer_names, rankdir, expand_nested, dpi, subgraph)\u001b[0m\n\u001b[0;32m     77\u001b[0m     \u001b[1;32mfrom\u001b[0m \u001b[1;33m.\u001b[0m\u001b[1;33m.\u001b[0m\u001b[0mmodels\u001b[0m \u001b[1;32mimport\u001b[0m \u001b[0mSequential\u001b[0m\u001b[1;33m\u001b[0m\u001b[1;33m\u001b[0m\u001b[0m\n\u001b[0;32m     78\u001b[0m \u001b[1;33m\u001b[0m\u001b[0m\n\u001b[1;32m---> 79\u001b[1;33m     \u001b[0m_check_pydot\u001b[0m\u001b[1;33m(\u001b[0m\u001b[1;33m)\u001b[0m\u001b[1;33m\u001b[0m\u001b[1;33m\u001b[0m\u001b[0m\n\u001b[0m\u001b[0;32m     80\u001b[0m     \u001b[1;32mif\u001b[0m \u001b[0msubgraph\u001b[0m\u001b[1;33m:\u001b[0m\u001b[1;33m\u001b[0m\u001b[1;33m\u001b[0m\u001b[0m\n\u001b[0;32m     81\u001b[0m         \u001b[0mdot\u001b[0m \u001b[1;33m=\u001b[0m \u001b[0mpydot\u001b[0m\u001b[1;33m.\u001b[0m\u001b[0mCluster\u001b[0m\u001b[1;33m(\u001b[0m\u001b[0mstyle\u001b[0m\u001b[1;33m=\u001b[0m\u001b[1;34m'dashed'\u001b[0m\u001b[1;33m,\u001b[0m \u001b[0mgraph_name\u001b[0m\u001b[1;33m=\u001b[0m\u001b[0mmodel\u001b[0m\u001b[1;33m.\u001b[0m\u001b[0mname\u001b[0m\u001b[1;33m)\u001b[0m\u001b[1;33m\u001b[0m\u001b[1;33m\u001b[0m\u001b[0m\n",
      "\u001b[1;32m~\\Anaconda3\\lib\\site-packages\\keras\\utils\\vis_utils.py\u001b[0m in \u001b[0;36m_check_pydot\u001b[1;34m()\u001b[0m\n\u001b[0;32m     20\u001b[0m     \u001b[1;32mif\u001b[0m \u001b[0mpydot\u001b[0m \u001b[1;32mis\u001b[0m \u001b[1;32mNone\u001b[0m\u001b[1;33m:\u001b[0m\u001b[1;33m\u001b[0m\u001b[1;33m\u001b[0m\u001b[0m\n\u001b[0;32m     21\u001b[0m         raise ImportError(\n\u001b[1;32m---> 22\u001b[1;33m             \u001b[1;34m'Failed to import `pydot`. '\u001b[0m\u001b[1;33m\u001b[0m\u001b[1;33m\u001b[0m\u001b[0m\n\u001b[0m\u001b[0;32m     23\u001b[0m             \u001b[1;34m'Please install `pydot`. '\u001b[0m\u001b[1;33m\u001b[0m\u001b[1;33m\u001b[0m\u001b[0m\n\u001b[0;32m     24\u001b[0m             'For example with `pip install pydot`.')\n",
      "\u001b[1;31mImportError\u001b[0m: Failed to import `pydot`. Please install `pydot`. For example with `pip install pydot`."
     ]
    }
   ],
   "source": [
    "plot_model(resnet50((96,95,3), classes=6))"
   ]
  },
  {
   "cell_type": "code",
   "execution_count": null,
   "metadata": {},
   "outputs": [],
   "source": []
  },
  {
   "cell_type": "code",
   "execution_count": null,
   "metadata": {},
   "outputs": [],
   "source": []
  }
 ],
 "metadata": {
  "kernelspec": {
   "display_name": "Python 3",
   "language": "python",
   "name": "python3"
  },
  "language_info": {
   "codemirror_mode": {
    "name": "ipython",
    "version": 3
   },
   "file_extension": ".py",
   "mimetype": "text/x-python",
   "name": "python",
   "nbconvert_exporter": "python",
   "pygments_lexer": "ipython3",
   "version": "3.7.4"
  }
 },
 "nbformat": 4,
 "nbformat_minor": 2
}
